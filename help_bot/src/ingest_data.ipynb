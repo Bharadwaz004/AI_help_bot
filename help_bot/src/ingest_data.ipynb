{
 "cells": [
  {
   "cell_type": "code",
   "execution_count": 8,
   "id": "9d7af8bf-7451-4b34-9da1-03be819ca7d2",
   "metadata": {},
   "outputs": [],
   "source": [
    "import os\n",
    "from dotenv import load_dotenv\n",
    "from langchain.document_loaders import DirectoryLoader, TextLoader\n",
    "from langchain.text_splitter import RecursiveCharacterTextSplitter\n",
    "from langchain.vectorstores import Chroma\n",
    "from langchain.embeddings import HuggingFaceEmbeddings"
   ]
  },
  {
   "cell_type": "code",
   "execution_count": 9,
   "id": "387368c8-a89e-4bff-aa81-783842282261",
   "metadata": {},
   "outputs": [],
   "source": [
    "load_dotenv()\n",
    "BASE_DIR = os.path.abspath(os.path.join(os.getcwd(), \"..\"))\n",
    "\n",
    "DATA_DIR = os.path.join(BASE_DIR, \"data\")\n",
    "CHROMA_DIR = os.path.join(BASE_DIR, \"chroma_db\")"
   ]
  },
  {
   "cell_type": "code",
   "execution_count": 10,
   "id": "90be1610-56e7-4ed0-92ce-6a72f4d4c7dc",
   "metadata": {},
   "outputs": [
    {
     "name": "stdout",
     "output_type": "stream",
     "text": [
      "Created 6 sample KB documents in C:\\Users\\bhara\\Documents\\help_bot\\data\n"
     ]
    }
   ],
   "source": [
    "os.makedirs(DATA_DIR, exist_ok=True)\n",
    "\n",
    "# Sample KB files (name -> content)\n",
    "sample_docs = {\n",
    "\n",
    "    \"Account_guide.txt\":\"\"\"How to change your plan\n",
    "You can change your Netflix plan by following these steps:\n",
    "\n",
    "Go to the Change Plan page in a browser. You may need to sign in if you haven't already.\n",
    "\n",
    "Choose the plan you'd like, then select Continue or Update.\n",
    "\n",
    "If you don't have the option to change your plan, see \"Can't change plan\" below.\n",
    "\n",
    "Tap or click Confirm Change or Confirm.\n",
    "\n",
    "Changing to a higher-priced plan takes effect immediately so you can enjoy all of the added features. Your billing date may change based on the remaining balance of your last payment, or you may be charged a prorated amount for the balance.\n",
    "\n",
    "Changing to a lower-priced plan takes effect on your next billing date. You can continue to use the features of the higher-priced plan until then.\n",
    "\n",
    "Note: If you have Netflix through a partner package or package add-on, search our Help Center for the article on your partner to find details on plan change timing and eligibility.\"\"\",\n",
    "    \n",
    "    \"Cant_change_plan.txt\":\"\"\"Can't change plan\n",
    "\n",
    "If you aren’t able to change your plan, it could be for a number of reasons:\n",
    "\n",
    "Account is on hold\n",
    "\n",
    "Account is paused\n",
    "\n",
    "A Kids profile is active whe\"n you go to the Change Plan page. See How to switch profiles to change to a different one.\n",
    "\n",
    "You changed to a lower-priced plan this billing period. (You'll need to wait until the next billing period to make another plan change.)\n",
    "\n",
    "Note: If you pay for Netflix through a partner or get Netflix as part of a package you may not have the option to change your plan.\"\"\",\n",
    "\n",
    "    \"in_use.txt\":\"\"\"Netflix says account is already in use\n",
    "If you get the error code E123 or any of these messages when you play a TV show or movie:\n",
    "\n",
    "Too many people are using your account right now.\n",
    "\n",
    "Your Netflix account is in use on another device.\n",
    "\n",
    "Your Netflix account is in use on too many devices.\n",
    "\n",
    "It means the maximum number of devices allowed to watch at the same time using your Netflix account has been reached. Your Netflix plan determines how many devices are allowed to watch at the same time using your account.\n",
    "\n",
    "To fix the problem:\n",
    "\n",
    "On a different device using your account, stop playing Netflix or close the Netflix app. If you don't know which devices on your account might be playing Netflix at the same time, you can check which devices recently watched.\n",
    "\n",
    "Note:After stopping Netflix on a different device, you may need to wait 5-10 minutes before you can watch on your device.\n",
    "\n",
    "Or, upgrade your Netflix plan to allow more devices to watch at the same time (up to 4 with the Premium plan).\n",
    "\n",
    "If your Netflix account is being used without permission, you can stop someone from using your account.\"\"\",\n",
    "\n",
    "    \"error_code.txt\":\"\"\"Netflix Error NW-2-5\n",
    "You might see this message on your TV or TV streaming device when you try to open Netflix:\n",
    "\n",
    "Netflix has encountered an error. Retrying in [X] seconds.\n",
    "Code: NW-2-5\n",
    "\n",
    "Error code NW-2-5 means your device took too long to connect to Netflix. This usually points to an internet connection problem on your device or home network.\n",
    "\n",
    "Follow the steps below to fix the issue. If it isn't fixed after doing these steps, you'll need to contact your internet service provider (ISP).\n",
    "\n",
    "\n",
    "1. Check your internet connection\n",
    "\n",
    "\n",
    "2. Restart your device\n",
    "\n",
    "\n",
    "3. Restart your home network\n",
    "\n",
    "\n",
    "4. Move your Wi-Fi router\n",
    "\n",
    "\n",
    "5. Set DNS to automatic (PlayStation/Xbox only)\n",
    "\n",
    "Netflix Error ui-800-3\n",
    "If the error code shown on your device also has numbers in parentheses ( ), search for that exact error code in our Help Center to get the right steps. Example: ui-800-3 (123456)\n",
    "\n",
    "If the error code on your device shows only ui-800-3, it means information stored on your device needs to be refreshed, or a network issue stopped Netflix from opening.\n",
    "\n",
    "To fix the problem, follow the steps for your device.\n",
    "\n",
    "TV or TV-connected device\n",
    "\n",
    "These steps can fix this error on your TV or a device that connects to your TV, like a streaming stick, media player, set-top box, or Blu-ray player.\n",
    "\n",
    "Restart your device\n",
    "\n",
    "Restart your home network\n",
    "\n",
    "Sign out of Netflix\n",
    "\n",
    "Restore your default connection settings.\n",
    "Netflix Error tvq-pb-101\n",
    "Check the error code on your TV. If there are additional numbers or letters inside parentheses ( ), search for that exact error code in our Help Center. There might be an article with steps that fix your exact error code.\n",
    "\n",
    "This error happens when an issue with data stored on your device stops Netflix from playing.\n",
    "\n",
    "To fix the problem, follow the steps for your device.\n",
    "\n",
    "\n",
    "Smart TV\n",
    "\n",
    "\n",
    "Restart your device\n",
    "\n",
    "\n",
    "Sign out of Netflix\n",
    "\n",
    "If you use a Vizio Smart TV and get this issue after following the steps above:\n",
    "\n",
    "\n",
    "Contact the device manufacturer.\"\"\",\n",
    "\n",
    "    \"watching.txt\":\"\"\"Fix a problem on your Android phone or tablet\n",
    "If Netflix isn't working on your Android phone or tablet, you can fix common issues with these steps.\n",
    "\n",
    "\n",
    "Turn your device off, then back on\n",
    "\n",
    "\n",
    "Clear the Netflix app data\n",
    "\n",
    "\n",
    "Reinstall the Netflix app\n",
    "\n",
    "\n",
    "Update your Android OS version\n",
    "\n",
    "\n",
    "Test your internet connection\n",
    "\n",
    "\n",
    "Restart your home network.\"\"\",\n",
    "\n",
    "    \"compatible.txt\":\"\"\"Netflix says, 'This app is not compatible with your device.'\n",
    "If you're getting the error message below when trying to use or install Netflix on your Android device, it usually means that your device needs to be restarted or that it isn't Play Protect certified. (That means it won't be able to get the Netflix app from the Google Play Store.)\n",
    "\n",
    "Error message\n",
    "\n",
    "This app is not compatible with your device.\n",
    "\n",
    "To fix the problem:\n",
    "\n",
    "\n",
    "Restart your device\n",
    "\n",
    "\n",
    "Check your device's Play Protect status.\"\"\"\n",
    "\n",
    "    \n",
    "}\n",
    "    \n",
    "\n",
    "# Write files\n",
    "for filename, content in sample_docs.items():\n",
    "    file_path = os.path.join(DATA_DIR, filename)\n",
    "    with open(file_path, \"w\", encoding=\"utf-8\") as f:\n",
    "        f.write(content)\n",
    "\n",
    "print(f\"Created {len(sample_docs)} sample KB documents in {DATA_DIR}\")"
   ]
  },
  {
   "cell_type": "code",
   "execution_count": 4,
   "id": "c72fcb94-0c3c-4d86-b696-e65cac44b006",
   "metadata": {},
   "outputs": [
    {
     "name": "stdout",
     "output_type": "stream",
     "text": [
      "✅ Chroma DB directory created at: C:\\Users\\bhara\\Documents\\help_bot\\chroma_db\n"
     ]
    }
   ],
   "source": [
    "CHROMA_DIR = os.path.join(BASE_DIR, \"chroma_db\")\n",
    "os.makedirs(CHROMA_DIR, exist_ok=True)\n",
    "\n",
    "print(f\"✅ Chroma DB directory created at: {CHROMA_DIR}\")"
   ]
  },
  {
   "cell_type": "code",
   "execution_count": 5,
   "id": "31fcb9de-2677-4d42-bdb7-34f81ef783ed",
   "metadata": {},
   "outputs": [
    {
     "name": "stdout",
     "output_type": "stream",
     "text": [
      "Loading documents...\n",
      "✅ Loaded 9 documents.\n",
      "📝 Split into 18 chunks.\n",
      "🔍 Creating embeddings...\n"
     ]
    },
    {
     "name": "stderr",
     "output_type": "stream",
     "text": [
      "C:\\Users\\bhara\\AppData\\Local\\Temp\\ipykernel_1460\\494788548.py:25: LangChainDeprecationWarning: The class `HuggingFaceEmbeddings` was deprecated in LangChain 0.2.2 and will be removed in 1.0. An updated version of the class exists in the :class:`~langchain-huggingface package and should be used instead. To use it run `pip install -U :class:`~langchain-huggingface` and import as `from :class:`~langchain_huggingface import HuggingFaceEmbeddings``.\n",
      "  embeddings = HuggingFaceEmbeddings(model_name=\"sentence-transformers/all-MiniLM-L6-v2\")\n"
     ]
    },
    {
     "name": "stdout",
     "output_type": "stream",
     "text": [
      "WARNING:tensorflow:From C:\\Users\\bhara\\AppData\\Local\\Programs\\Python\\Python311\\Lib\\site-packages\\tf_keras\\src\\losses.py:2976: The name tf.losses.sparse_softmax_cross_entropy is deprecated. Please use tf.compat.v1.losses.sparse_softmax_cross_entropy instead.\n",
      "\n",
      "💾 Saving to Chroma DB...\n",
      "🎉 Ingestion complete! Chroma DB is ready at: C:\\Users\\bhara\\Documents\\help_bot\\chroma_db\n"
     ]
    },
    {
     "name": "stderr",
     "output_type": "stream",
     "text": [
      "C:\\Users\\bhara\\AppData\\Local\\Temp\\ipykernel_1460\\494788548.py:32: LangChainDeprecationWarning: Since Chroma 0.4.x the manual persistence method is no longer supported as docs are automatically persisted.\n",
      "  db.persist()\n"
     ]
    }
   ],
   "source": [
    "# -----------------------------\n",
    "# LOAD DOCUMENTS\n",
    "# -----------------------------\n",
    "print(\"Loading documents...\")\n",
    "loader = DirectoryLoader(DATA_DIR, glob=\"*.txt\", loader_cls=lambda path: TextLoader(path, encoding=\"utf-8\"))\n",
    "documents = loader.load()\n",
    "\n",
    "print(f\"✅ Loaded {len(documents)} documents.\")\n",
    "\n",
    "# -----------------------------\n",
    "# SPLIT INTO CHUNKS\n",
    "# -----------------------------\n",
    "text_splitter = RecursiveCharacterTextSplitter(\n",
    "    chunk_size=500,  # max characters per chunk\n",
    "    chunk_overlap=50 # overlap for better context\n",
    ")\n",
    "docs = text_splitter.split_documents(documents)\n",
    "\n",
    "print(f\"📝 Split into {len(docs)} chunks.\")\n",
    "\n",
    "# -----------------------------\n",
    "# EMBEDDINGS (HuggingFace)\n",
    "# -----------------------------\n",
    "print(\"🔍 Creating embeddings...\")\n",
    "embeddings = HuggingFaceEmbeddings(model_name=\"sentence-transformers/all-MiniLM-L6-v2\")\n",
    "\n",
    "# -----------------------------\n",
    "# CREATE / UPDATE CHROMA DB\n",
    "# -----------------------------\n",
    "print(\"💾 Saving to Chroma DB...\")\n",
    "db = Chroma.from_documents(docs, embeddings, persist_directory=CHROMA_DIR)\n",
    "db.persist()\n",
    "\n",
    "print(f\"🎉 Ingestion complete! Chroma DB is ready at: {CHROMA_DIR}\")"
   ]
  },
  {
   "cell_type": "code",
   "execution_count": 6,
   "id": "9704bff7-5cd4-4478-be6a-1825f57694ce",
   "metadata": {},
   "outputs": [
    {
     "name": "stderr",
     "output_type": "stream",
     "text": [
      "C:\\Users\\bhara\\AppData\\Local\\Temp\\ipykernel_1460\\1671407650.py:12: LangChainDeprecationWarning: The class `Chroma` was deprecated in LangChain 0.2.9 and will be removed in 1.0. An updated version of the class exists in the :class:`~langchain-chroma package and should be used instead. To use it run `pip install -U :class:`~langchain-chroma` and import as `from :class:`~langchain_chroma import Chroma``.\n",
      "  db = Chroma(persist_directory=CHROMA_DIR, embedding_function=embeddings)\n"
     ]
    }
   ],
   "source": [
    "from langchain_community.vectorstores import Chroma\n",
    "from langchain_community.embeddings import HuggingFaceEmbeddings\n",
    "\n",
    "# Paths (same as ingestion)\n",
    "BASE_DIR = os.path.abspath(os.path.join(os.getcwd(), \"..\"))\n",
    "CHROMA_DIR = os.path.join(BASE_DIR, \"chroma_db\")\n",
    "\n",
    "# Load embeddings (must match ingestion model)\n",
    "embeddings = HuggingFaceEmbeddings(model_name=\"sentence-transformers/all-MiniLM-L6-v2\")\n",
    "\n",
    "# Load existing Chroma DB\n",
    "db = Chroma(persist_directory=CHROMA_DIR, embedding_function=embeddings)\n"
   ]
  },
  {
   "cell_type": "code",
   "execution_count": null,
   "id": "b95f1f71-c419-43c9-817d-d08cb444a60a",
   "metadata": {},
   "outputs": [],
   "source": []
  }
 ],
 "metadata": {
  "kernelspec": {
   "display_name": "Python 3 (ipykernel)",
   "language": "python",
   "name": "python3"
  },
  "language_info": {
   "codemirror_mode": {
    "name": "ipython",
    "version": 3
   },
   "file_extension": ".py",
   "mimetype": "text/x-python",
   "name": "python",
   "nbconvert_exporter": "python",
   "pygments_lexer": "ipython3",
   "version": "3.11.0"
  }
 },
 "nbformat": 4,
 "nbformat_minor": 5
}
